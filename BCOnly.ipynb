{
 "cells": [
  {
   "cell_type": "code",
   "execution_count": 2,
   "metadata": {},
   "outputs": [
    {
     "name": "stdout",
     "output_type": "stream",
     "text": [
      "The autoreload extension is already loaded. To reload it, use:\n",
      "  %reload_ext autoreload\n"
     ]
    }
   ],
   "source": [
    "%load_ext autoreload\n",
    "%autoreload 2\n",
    "from functions import *\n",
    "from pandas_summary import DataFrameSummary\n",
    "from sklearn.ensemble import RandomForestClassifier\n",
    "from IPython.display import display\n",
    "from sklearn import metrics\n"
   ]
  },
  {
   "cell_type": "code",
   "execution_count": 3,
   "metadata": {},
   "outputs": [],
   "source": [
    "#Breast Cancer\n",
    "df_raw = connect(r\"\"\"with Breast AS\n",
    "(SELECT TOP (1500) [NoteID],[TEXT],CASE \n",
    "                  WHEN [TEXT] IS NOT NULL THEN (1) END AS CAT    \n",
    "                  FROM [mimiciii].[dbo].[NOTEEVENTS] where \n",
    "                  CONTAINS([TEXT],'NEAR((CARCINOMA,BREAST),2,TRUE)') OR\n",
    "                  CONTAINS([TEXT],'NEAR((TRIPLE,NEGATIVE),1,TRUE)') OR \n",
    "                  CONTAINS([TEXT],'NEAR((METASTATIC,BREAST),3,TRUE)') OR \n",
    "                  CONTAINS([TEXT],'NEAR((BREAST,CANCER),1,TRUE)') AND NOT(\n",
    "                  CONTAINS([TEXT],'NEAR((DIABETES,MELLITUS),1,TRUE)')) AND NOT(\n",
    "                  CONTAINS([TEXT],'NEAR((LUNG,CANCER),4,TRUE)')) order by [NoteID] ASC\n",
    "),NonBC AS\n",
    "(SELECT TOP (1500) [NoteID],[TEXT],CASE \n",
    "                  WHEN [TEXT] IS NOT NULL THEN (0) END AS CAT    \n",
    "                  FROM [mimiciii].[dbo].[NOTEEVENTS] where \n",
    "                  NOT(CONTAINS([TEXT],'NEAR((CARCINOMA,BREAST),2,TRUE)')) OR\n",
    "                  NOT (CONTAINS([TEXT],'NEAR((TRIPLE,NEGATIVE),1,TRUE)')) OR \n",
    "                  NOT(CONTAINS([TEXT],'NEAR((METASTATIC,BREAST),3,TRUE)'))OR \n",
    "                  NOT (CONTAINS([TEXT],'NEAR((BREAST,CANCER),1,TRUE)')) order by [NoteID] ASC\n",
    ")\n",
    "select * from Breast\n",
    "UNION\n",
    "SELECT * FROM NonBC\"\"\",params =None)"
   ]
  },
  {
   "cell_type": "code",
   "execution_count": 4,
   "metadata": {},
   "outputs": [],
   "source": [
    "#Breast Cancer\n",
    "df_test = connect(r\"\"\"with Breast AS\n",
    "(SELECT TOP (500) [NoteID],[TEXT],CASE \n",
    "                  WHEN [TEXT] IS NOT NULL THEN (1) END AS CAT    \n",
    "                  FROM [mimiciii].[dbo].[NOTEEVENTS] where \n",
    "                  CONTAINS([TEXT],'NEAR((CARCINOMA,BREAST),2,TRUE)') OR\n",
    "                  CONTAINS([TEXT],'NEAR((TRIPLE,NEGATIVE),1,TRUE)') OR \n",
    "                  CONTAINS([TEXT],'NEAR((METASTATIC,BREAST),3,TRUE)') OR \n",
    "                  CONTAINS([TEXT],'NEAR((BREAST,CANCER),1,TRUE)') AND NOT(\n",
    "                  CONTAINS([TEXT],'NEAR((DIABETES,MELLITUS),1,TRUE)')) AND NOT(\n",
    "                  CONTAINS([TEXT],'NEAR((LUNG,CANCER),4,TRUE)')) order by [NoteID] DESC\n",
    "),NonBC AS\n",
    "(SELECT TOP (500) [NoteID],[TEXT],CASE \n",
    "                  WHEN [TEXT] IS NOT NULL THEN (0) END AS CAT    \n",
    "                  FROM [mimiciii].[dbo].[NOTEEVENTS] where \n",
    "                  NOT(CONTAINS([TEXT],'NEAR((CARCINOMA,BREAST),2,TRUE)')) OR\n",
    "                  NOT (CONTAINS([TEXT],'NEAR((TRIPLE,NEGATIVE),1,TRUE)')) OR \n",
    "                  NOT(CONTAINS([TEXT],'NEAR((METASTATIC,BREAST),3,TRUE)'))OR \n",
    "                  NOT (CONTAINS([TEXT],'NEAR((BREAST,CANCER),1,TRUE)')) order by [NoteID] DESC\n",
    ")\n",
    "select * from Breast\n",
    "UNION\n",
    "SELECT * FROM NonBC\"\"\",params =None)"
   ]
  },
  {
   "cell_type": "code",
   "execution_count": 5,
   "metadata": {},
   "outputs": [],
   "source": [
    "df_raw = df_raw.sample(frac=1).reset_index(drop=True)\n",
    "df_test = df_test.sample(frac=1).reset_index(drop=True)"
   ]
  },
  {
   "cell_type": "code",
   "execution_count": 6,
   "metadata": {},
   "outputs": [
    {
     "data": {
      "text/html": [
       "<div>\n",
       "<style scoped>\n",
       "    .dataframe tbody tr th:only-of-type {\n",
       "        vertical-align: middle;\n",
       "    }\n",
       "\n",
       "    .dataframe tbody tr th {\n",
       "        vertical-align: top;\n",
       "    }\n",
       "\n",
       "    .dataframe thead th {\n",
       "        text-align: right;\n",
       "    }\n",
       "</style>\n",
       "<table border=\"1\" class=\"dataframe\">\n",
       "  <thead>\n",
       "    <tr style=\"text-align: right;\">\n",
       "      <th></th>\n",
       "      <th>NoteID</th>\n",
       "      <th>TEXT</th>\n",
       "      <th>CAT</th>\n",
       "    </tr>\n",
       "  </thead>\n",
       "  <tbody>\n",
       "    <tr>\n",
       "      <th>0</th>\n",
       "      <td>26157</td>\n",
       "      <td>Admission Date:  [**2150-8-4**]              D...</td>\n",
       "      <td>1</td>\n",
       "    </tr>\n",
       "    <tr>\n",
       "      <th>1</th>\n",
       "      <td>876</td>\n",
       "      <td>Pt is a 67 yo white female, biba s/p ped struc...</td>\n",
       "      <td>0</td>\n",
       "    </tr>\n",
       "    <tr>\n",
       "      <th>2</th>\n",
       "      <td>1312</td>\n",
       "      <td>Demographics\\n   Ideal body weight: 72.6 None\\...</td>\n",
       "      <td>0</td>\n",
       "    </tr>\n",
       "    <tr>\n",
       "      <th>3</th>\n",
       "      <td>15</td>\n",
       "      <td>TITLE: This is a 74 year-old woman with a PMH ...</td>\n",
       "      <td>0</td>\n",
       "    </tr>\n",
       "    <tr>\n",
       "      <th>4</th>\n",
       "      <td>139</td>\n",
       "      <td>Admission Date:  [**2112-7-2**]       Discharg...</td>\n",
       "      <td>0</td>\n",
       "    </tr>\n",
       "  </tbody>\n",
       "</table>\n",
       "</div>"
      ],
      "text/plain": [
       "   NoteID                                               TEXT  CAT\n",
       "0   26157  Admission Date:  [**2150-8-4**]              D...    1\n",
       "1     876  Pt is a 67 yo white female, biba s/p ped struc...    0\n",
       "2    1312  Demographics\\n   Ideal body weight: 72.6 None\\...    0\n",
       "3      15  TITLE: This is a 74 year-old woman with a PMH ...    0\n",
       "4     139  Admission Date:  [**2112-7-2**]       Discharg...    0"
      ]
     },
     "execution_count": 6,
     "metadata": {},
     "output_type": "execute_result"
    }
   ],
   "source": [
    "df_raw.head()"
   ]
  },
  {
   "cell_type": "code",
   "execution_count": 7,
   "metadata": {},
   "outputs": [],
   "source": [
    "IDTr, DocTypeTr, NotesTr= Dataframe(df_raw )\n",
    "IDTs, DocTypeTs, NotesTs= Dataframe(df_test)\n",
    "NormTrain= normalize_corpus(NotesTr,tokenize=False)\n",
    "NormTest= normalize_corpus(NotesTs,tokenize=False)\n",
    "newList = NMF_Tuples(NormTrain)"
   ]
  },
  {
   "cell_type": "code",
   "execution_count": 8,
   "metadata": {},
   "outputs": [],
   "source": [
    "TrainNMF= NMF_corpus(newList,NormTrain)\n",
    "TestNMF= NMF_corpus(newList,NormTest)"
   ]
  },
  {
   "cell_type": "code",
   "execution_count": 9,
   "metadata": {},
   "outputs": [],
   "source": [
    "from sklearn.feature_extraction.text import CountVectorizer, TfidfVectorizer\n",
    "vec = TfidfVectorizer()"
   ]
  },
  {
   "cell_type": "code",
   "execution_count": 10,
   "metadata": {},
   "outputs": [],
   "source": [
    "TrainTransf = vec.fit_transform(TrainNMF)\n",
    "tb = pd.DataFrame(TrainTransf.toarray(), columns=vec.get_feature_names())\n",
    "df_raw_sub = df_raw[['NoteID','CAT']]\n",
    "df_new = pd.concat([df_raw_sub,tb],axis=1)\n",
    "def split(a,m): return a[:m].copy(), a[m:].copy()\n",
    "n_valid = 1500\n",
    "n_train = len(df_raw) - n_valid\n",
    "df_train, df_valid = split(df_new,n_train)"
   ]
  },
  {
   "cell_type": "code",
   "execution_count": 11,
   "metadata": {},
   "outputs": [],
   "source": [
    "X_train = df_train.drop(['NoteID','CAT'],axis=1)\n",
    "y_train=df_train.CAT\n",
    "X_valid = df_valid.drop(['NoteID','CAT'],axis=1)\n",
    "y_valid=df_valid.CAT\n",
    "#X_train, X_valid, y_train, y_valid = train_test_split(X, y, test_size=0.5, random_state=0)"
   ]
  },
  {
   "cell_type": "code",
   "execution_count": 12,
   "metadata": {},
   "outputs": [],
   "source": [
    "TestTransf =vec.transform(TestNMF)\n",
    "X_test= pd.DataFrame(TestTransf.toarray(), columns=vec.get_feature_names())\n",
    "y_test = df_test.CAT"
   ]
  },
  {
   "cell_type": "code",
   "execution_count": 13,
   "metadata": {},
   "outputs": [
    {
     "data": {
      "text/plain": [
       "(1500, 643)"
      ]
     },
     "execution_count": 13,
     "metadata": {},
     "output_type": "execute_result"
    }
   ],
   "source": [
    "X_valid.shape"
   ]
  },
  {
   "cell_type": "markdown",
   "metadata": {},
   "source": [
    "# Baseline Model"
   ]
  },
  {
   "cell_type": "code",
   "execution_count": 14,
   "metadata": {},
   "outputs": [],
   "source": [
    "from sklearn.linear_model import LogisticRegression\n",
    "from sklearn.ensemble import RandomForestClassifier\n",
    "lg = LogisticRegression()\n",
    "rf = RandomForestClassifier(n_estimators=60,min_samples_leaf=3,oob_score=True, n_jobs=-1)"
   ]
  },
  {
   "cell_type": "code",
   "execution_count": 15,
   "metadata": {},
   "outputs": [],
   "source": [
    "lg=lg.fit(X_train,y_train)\n",
    "rf=rf.fit(X_train,y_train)"
   ]
  },
  {
   "cell_type": "code",
   "execution_count": 16,
   "metadata": {},
   "outputs": [
    {
     "data": {
      "text/plain": [
       "0.9973333333333333"
      ]
     },
     "execution_count": 16,
     "metadata": {},
     "output_type": "execute_result"
    }
   ],
   "source": [
    "rf = rf.fit(X_train,y_train)\n",
    "rf.score(X_train,y_train)"
   ]
  },
  {
   "cell_type": "code",
   "execution_count": 17,
   "metadata": {},
   "outputs": [],
   "source": [
    "pred = lg.predict(X_valid)\n",
    "pred_rf = rf.predict(X_valid)"
   ]
  },
  {
   "cell_type": "code",
   "execution_count": 18,
   "metadata": {},
   "outputs": [
    {
     "name": "stdout",
     "output_type": "stream",
     "text": [
      "0.92\n",
      "0.962\n"
     ]
    }
   ],
   "source": [
    "#Casculate the accuracy\n",
    "from sklearn import metrics\n",
    "print(metrics.accuracy_score(y_valid,pred))\n",
    "print(metrics.accuracy_score(y_valid,pred_rf))\n",
    "R = metrics.confusion_matrix(y_valid,pred_rf)"
   ]
  },
  {
   "cell_type": "code",
   "execution_count": 19,
   "metadata": {},
   "outputs": [],
   "source": [
    "# lg = lg.fit(X_train,y_train)\n",
    "# lg.score(X_train,y_train)\n",
    "#max(y_valid.mean(),1-y_valid.mean())"
   ]
  },
  {
   "cell_type": "code",
   "execution_count": 20,
   "metadata": {},
   "outputs": [
    {
     "data": {
      "image/png": "[encoded data removed]",
      "text/plain": [
       "<Figure size 576x576 with 1 Axes>"
      ]
     },
     "metadata": {
      "needs_background": "light"
     },
     "output_type": "display_data"
    }
   ],
   "source": [
    "show_confusion_matrix(R, ['Class 0', 'Class 1'])"
   ]
  },
  {
   "cell_type": "code",
   "execution_count": 21,
   "metadata": {},
   "outputs": [
    {
     "name": "stdout",
     "output_type": "stream",
     "text": [
      "              precision    recall  f1-score   support\n",
      "\n",
      "           0       0.99      0.94      0.96       756\n",
      "           1       0.94      0.99      0.96       744\n",
      "\n",
      "   micro avg       0.96      0.96      0.96      1500\n",
      "   macro avg       0.96      0.96      0.96      1500\n",
      "weighted avg       0.96      0.96      0.96      1500\n",
      "\n"
     ]
    }
   ],
   "source": [
    "from sklearn.metrics import classification_report\n",
    "from sklearn.metrics import precision_recall_fscore_support\n",
    "print(classification_report(y_valid,pred_rf, target_names=['0', '1']))"
   ]
  },
  {
   "cell_type": "code",
   "execution_count": 22,
   "metadata": {},
   "outputs": [],
   "source": [
    "#rf.predict_proba(X_valid)[0:10,:]"
   ]
  },
  {
   "cell_type": "code",
   "execution_count": 23,
   "metadata": {},
   "outputs": [],
   "source": [
    "pred_proba = rf.predict_proba(X_valid)[:,:]\n",
    "y_pred_proba = pred_proba[:,1]"
   ]
  },
  {
   "cell_type": "code",
   "execution_count": 24,
   "metadata": {},
   "outputs": [
    {
     "data": {
      "text/plain": [
       "Text(0, 0.5, 'Frequency')"
      ]
     },
     "execution_count": 24,
     "metadata": {},
     "output_type": "execute_result"
    },
    {
     "data": {
      "image/png": "[encoded data removed]",
      "text/plain": [
       "<Figure size 432x288 with 1 Axes>"
      ]
     },
     "metadata": {
      "needs_background": "light"
     },
     "output_type": "display_data"
    }
   ],
   "source": [
    "%matplotlib inline\n",
    "import matplotlib.pyplot as plt\n",
    "plt.rcParams['font.size']=14\n",
    "#Histogram of predicxted probaolities\n",
    "plt.hist(y_pred_proba,bins = 5)\n",
    "plt.xlim(0,1)\n",
    "plt.title('Histogram of Predicted Probabilites')\n",
    "plt.xlabel('Predicted Probabilities of Breast Cancer')\n",
    "plt.ylabel('Frequency')"
   ]
  },
  {
   "cell_type": "markdown",
   "metadata": {},
   "source": [
    "# ROC Curve and Area Under the Curve(AUC)"
   ]
  },
  {
   "cell_type": "code",
   "execution_count": 25,
   "metadata": {},
   "outputs": [],
   "source": [
    "# print('y_train class distribution')\n",
    "# print(y_train.value_counts(normalize=True))"
   ]
  },
  {
   "cell_type": "code",
   "execution_count": 26,
   "metadata": {},
   "outputs": [],
   "source": [
    "fpr,tpr,thresholds = metrics.roc_curve(y_valid,y_pred_proba)\n",
    "roc_auc = metrics.auc(fpr,tpr)\n",
    "def  plot_roc_cur(fpr,tpr,label=None):\n",
    "    plt.figure(figsize=(15,15))\n",
    "    plt.plot(fpr,tpr,linewidth=2,label=label)\n",
    "    plt.plot([0,1],[0,1],'g--')\n",
    "    plt.xlim([0,1.0])\n",
    "    plt.xlim([0,1.0])\n",
    "    plt.axis([-0.005,1,0,1.005])\n",
    "    plt.xticks(np.arange(0,1,0.05),rotation=90)\n",
    "    plt.title('ROC for Breast Cancer Classifier')\n",
    "    plt.xlabel('False Positive Rate(1-Specificity)')\n",
    "    plt.ylabel('True Postive Rate')\n",
    "    plt.legend(loc='best')\n",
    "    plt.grid(True)"
   ]
  },
  {
   "cell_type": "code",
   "execution_count": 27,
   "metadata": {},
   "outputs": [
    {
     "data": {
      "image/png": "[encoded data removed]",
      "text/plain": [
       "<Figure size 1080x1080 with 1 Axes>"
      ]
     },
     "metadata": {
      "needs_background": "light"
     },
     "output_type": "display_data"
    }
   ],
   "source": [
    " plot_roc_cur(fpr,tpr,'ROC Curve(area  =%0.2f)'%roc_auc)"
   ]
  },
  {
   "cell_type": "code",
   "execution_count": 28,
   "metadata": {},
   "outputs": [],
   "source": [
    "def evaluate_threshold(threshold):\n",
    "    print('Sensitivity',tpr[thresholds>threshold][-1])\n",
    "    print('Specificity',1-fpr[thresholds>threshold][-1])"
   ]
  },
  {
   "cell_type": "code",
   "execution_count": 29,
   "metadata": {},
   "outputs": [],
   "source": [
    "from sklearn.preprocessing import binarize\n",
    "pred_cl = binarize(pred_proba, 0.45)\n",
    "pred_class = pred_cl[:,1]\n",
    "R1 = metrics.confusion_matrix(y_valid,pred_class)"
   ]
  },
  {
   "cell_type": "code",
   "execution_count": 30,
   "metadata": {},
   "outputs": [
    {
     "data": {
      "text/plain": [
       "array([[692,  64],\n",
       "       [  2, 742]], dtype=int64)"
      ]
     },
     "execution_count": 30,
     "metadata": {},
     "output_type": "execute_result"
    }
   ],
   "source": [
    "R1"
   ]
  },
  {
   "cell_type": "code",
   "execution_count": 31,
   "metadata": {},
   "outputs": [],
   "source": [
    "#evaluate_threshold(0.55)"
   ]
  },
  {
   "cell_type": "markdown",
   "metadata": {},
   "source": [
    "# Predicting the test data"
   ]
  },
  {
   "cell_type": "code",
   "execution_count": 32,
   "metadata": {},
   "outputs": [],
   "source": [
    "test_pred_proba = rf.predict_proba(X_test)[:,:]\n",
    "test_pred_cl = binarize(test_pred_proba, 0.35)\n",
    "test_y_pred_proba = test_pred_cl[:,1]\n",
    "#pred_proba"
   ]
  },
  {
   "cell_type": "code",
   "execution_count": 33,
   "metadata": {},
   "outputs": [],
   "source": [
    "R2 = metrics.confusion_matrix(y_test,test_y_pred_proba)"
   ]
  },
  {
   "cell_type": "code",
   "execution_count": 34,
   "metadata": {},
   "outputs": [
    {
     "data": {
      "text/plain": [
       "array([[490,  10],\n",
       "       [  0, 500]], dtype=int64)"
      ]
     },
     "execution_count": 34,
     "metadata": {},
     "output_type": "execute_result"
    }
   ],
   "source": [
    "R2"
   ]
  }
 ],
 "metadata": {
  "kernelspec": {
   "display_name": "Python 3",
   "language": "python",
   "name": "python3"
  },
  "language_info": {
   "codemirror_mode": {
    "name": "ipython",
    "version": 3
   },
   "file_extension": ".py",
   "mimetype": "text/x-python",
   "name": "python",
   "nbconvert_exporter": "python",
   "pygments_lexer": "ipython3",
   "version": "3.6.8"
  }
 },
 "nbformat": 4,
 "nbformat_minor": 2
}
